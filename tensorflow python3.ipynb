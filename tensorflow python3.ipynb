{
 "cells": [
  {
   "cell_type": "markdown",
   "metadata": {},
   "source": [
    "code orionated from:\n",
    "'''\n",
    "A Convolutional Network implementation example using TensorFlow library.\n",
    "This example is using the MNIST database of handwritten digits\n",
    "(http://yann.lecun.com/exdb/mnist/)\n",
    "Author: Aymeric Damien\n",
    "Project: https://github.com/aymericdamien/TensorFlow-Examples/\n",
    "'''\n",
    "\n",
    "my main point in modifying this code is to make it notebook runable. the idea is that often when somebody is new to Tesorflow it is difficult to isolate a protion of code that is causing the problem. It is my hope that this notebook will assist people to learn Tensorflow with less struglling with each error. It is possible that this might just run, but if it crashes it will allow you to more easily find the cause."
   ]
  },
  {
   "cell_type": "code",
   "execution_count": 38,
   "metadata": {
    "collapsed": false
   },
   "outputs": [
    {
     "data": {
      "text/plain": [
       "'3.5.2'"
      ]
     },
     "execution_count": 38,
     "metadata": {},
     "output_type": "execute_result"
    }
   ],
   "source": [
    "from platform import python_version\n",
    "python_version()\n"
   ]
  },
  {
   "cell_type": "code",
   "execution_count": 39,
   "metadata": {
    "collapsed": false
   },
   "outputs": [
    {
     "name": "stdout",
     "output_type": "stream",
     "text": [
      "Extracting /tmp/data/train-images-idx3-ubyte.gz\n",
      "Extracting /tmp/data/train-labels-idx1-ubyte.gz\n",
      "Extracting /tmp/data/t10k-images-idx3-ubyte.gz\n",
      "Extracting /tmp/data/t10k-labels-idx1-ubyte.gz\n"
     ]
    }
   ],
   "source": [
    "\n",
    "from __future__ import print_function\n",
    "\n",
    "import tensorflow as tf\n",
    "\n",
    "# Import MNIST data\n",
    "from tensorflow.examples.tutorials.mnist import input_data\n",
    "mnist = input_data.read_data_sets(\"/tmp/data/\", one_hot=True)"
   ]
  },
  {
   "cell_type": "markdown",
   "metadata": {},
   "source": [
    "Set parameters"
   ]
  },
  {
   "cell_type": "code",
   "execution_count": 40,
   "metadata": {
    "collapsed": false
   },
   "outputs": [],
   "source": [
    "learning_rate = 0.001\n",
    "training_iters = 200000\n",
    "batch_size = 128\n",
    "display_step = 10"
   ]
  },
  {
   "cell_type": "markdown",
   "metadata": {},
   "source": [
    "Network Parameters"
   ]
  },
  {
   "cell_type": "code",
   "execution_count": 41,
   "metadata": {
    "collapsed": false
   },
   "outputs": [],
   "source": [
    "n_input = 784 # MNIST data input (img shape: 28*28)\n",
    "n_classes = 10 # MNIST total classes (0-9 digits)\n",
    "dropout = 0.75 # Dropout, probability to keep units"
   ]
  },
  {
   "cell_type": "markdown",
   "metadata": {},
   "source": [
    "tf Graph input\n",
    "Place holders are used to pretend to be tensors. Laters data will be fed into them."
   ]
  },
  {
   "cell_type": "code",
   "execution_count": 42,
   "metadata": {
    "collapsed": true
   },
   "outputs": [],
   "source": [
    "x = tf.placeholder(tf.float32, [None, n_input])\n",
    "y = tf.placeholder(tf.float32, [None, n_classes])\n",
    "keep_prob = tf.placeholder(tf.float32) #dropout (keep probability)"
   ]
  },
  {
   "cell_type": "markdown",
   "metadata": {},
   "source": [
    "Create some wrappers for simplicity. The idea is to make the Tensorflow calls more of normal function calls."
   ]
  },
  {
   "cell_type": "code",
   "execution_count": 43,
   "metadata": {
    "collapsed": true
   },
   "outputs": [],
   "source": [
    "def conv2d(x, W, b, strides=1):\n",
    "    '''Conv2D wrapper, with bias and relu activation'''\n",
    "    x = tf.nn.conv2d(x, W, strides=[1, strides, strides, 1], padding='SAME')\n",
    "    x = tf.nn.bias_add(x, b)\n",
    "    return tf.nn.relu(x)\n",
    "\n",
    "\n",
    "def maxpool2d(x, k=2):\n",
    "    '''MaxPool2D wrapper '''\n",
    "    return tf.nn.max_pool(x, ksize=[1, k, k, 1], strides=[1, k, k, 1],\n",
    "padding='SAME')"
   ]
  },
  {
   "cell_type": "markdown",
   "metadata": {},
   "source": [
    "Create model"
   ]
  },
  {
   "cell_type": "code",
   "execution_count": 44,
   "metadata": {
    "collapsed": false
   },
   "outputs": [],
   "source": [
    "def conv_net(x, weights, biases, dropout):\n",
    "    # Reshape input picture\n",
    "    x = tf.reshape(x, shape=[-1, 28, 28, 1])\n",
    "\n",
    "    # Convolution Layer\n",
    "    conv1 = conv2d(x, weights['wc1'], biases['bc1'])\n",
    "    # Max Pooling (down-sampling)\n",
    "    conv1 = maxpool2d(conv1, k=2)\n",
    "\n",
    "    # Convolution Layer\n",
    "    conv2 = conv2d(conv1, weights['wc2'], biases['bc2'])\n",
    "    # Max Pooling (down-sampling)\n",
    "    conv2 = maxpool2d(conv2, k=2)\n",
    "\n",
    "    # Fully connected layer\n",
    "    # Reshape conv2 output to fit fully connected layer input\n",
    "    fc1 = tf.reshape(conv2, [-1, weights['wd1'].get_shape().as_list()[0]])\n",
    "    fc1 = tf.add(tf.matmul(fc1, weights['wd1']), biases['bd1'])\n",
    "    fc1 = tf.nn.relu(fc1)\n",
    "    # Apply Dropout\n",
    "    fc1 = tf.nn.dropout(fc1, dropout)\n",
    "\n",
    "    # Output, class prediction\n",
    "    out = tf.add(tf.matmul(fc1, weights['out']), biases['out'])\n",
    "    return out"
   ]
  },
  {
   "cell_type": "markdown",
   "metadata": {},
   "source": [
    "Store layers weight & bias"
   ]
  },
  {
   "cell_type": "code",
   "execution_count": 45,
   "metadata": {
    "collapsed": true
   },
   "outputs": [],
   "source": [
    "weights = {\n",
    "    # 5x5 conv, 1 input, 32 outputs\n",
    "    'wc1': tf.Variable(tf.random_normal([5, 5, 1, 32])),\n",
    "    # 5x5 conv, 32 inputs, 64 outputs\n",
    "    'wc2': tf.Variable(tf.random_normal([5, 5, 32, 64])),\n",
    "    # fully connected, 7*7*64 inputs, 1024 outputs\n",
    "    'wd1': tf.Variable(tf.random_normal([7*7*64, 1024])),\n",
    "    # 1024 inputs, 10 outputs (class prediction)\n",
    "    'out': tf.Variable(tf.random_normal([1024, n_classes]))\n",
    "}\n",
    "\n",
    "biases = {\n",
    "    'bc1': tf.Variable(tf.random_normal([32])),\n",
    "    'bc2': tf.Variable(tf.random_normal([64])),\n",
    "    'bd1': tf.Variable(tf.random_normal([1024])),\n",
    "    'out': tf.Variable(tf.random_normal([n_classes]))\n",
    "}"
   ]
  },
  {
   "cell_type": "markdown",
   "metadata": {},
   "source": [
    "Construct model"
   ]
  },
  {
   "cell_type": "code",
   "execution_count": 46,
   "metadata": {
    "collapsed": true
   },
   "outputs": [],
   "source": [
    "pred = conv_net(x, weights, biases, keep_prob)"
   ]
  },
  {
   "cell_type": "markdown",
   "metadata": {},
   "source": [
    "Define loss and optimizer"
   ]
  },
  {
   "cell_type": "code",
   "execution_count": 47,
   "metadata": {
    "collapsed": true
   },
   "outputs": [],
   "source": [
    "cost = tf.reduce_mean(tf.nn.softmax_cross_entropy_with_logits(logits=pred, labels=y))\n",
    "optimizer = tf.train.AdamOptimizer(learning_rate=learning_rate).minimize(cost)"
   ]
  },
  {
   "cell_type": "markdown",
   "metadata": {},
   "source": [
    "Evaluate model"
   ]
  },
  {
   "cell_type": "code",
   "execution_count": 48,
   "metadata": {
    "collapsed": false
   },
   "outputs": [],
   "source": [
    "correct_pred = tf.equal(tf.argmax(pred, 1), tf.argmax(y, 1))\n",
    "accuracy = tf.reduce_mean(tf.cast(correct_pred, tf.float32))"
   ]
  },
  {
   "cell_type": "markdown",
   "metadata": {},
   "source": [
    "Initializing the variables"
   ]
  },
  {
   "cell_type": "code",
   "execution_count": 49,
   "metadata": {
    "collapsed": true
   },
   "outputs": [],
   "source": [
    "init = tf.global_variables_initializer()"
   ]
  },
  {
   "cell_type": "code",
   "execution_count": 52,
   "metadata": {
    "collapsed": false
   },
   "outputs": [
    {
     "name": "stdout",
     "output_type": "stream",
     "text": [
      "Iter 1280, Minibatch Loss= 27259.310547, Training Accuracy= 0.27344\n",
      "Iter 2560, Minibatch Loss= 9159.318359, Training Accuracy= 0.61719\n",
      "Iter 3840, Minibatch Loss= 6457.607910, Training Accuracy= 0.70312\n",
      "Iter 5120, Minibatch Loss= 3051.637451, Training Accuracy= 0.80469\n",
      "Iter 6400, Minibatch Loss= 3381.936523, Training Accuracy= 0.83594\n",
      "Iter 7680, Minibatch Loss= 3526.810791, Training Accuracy= 0.82812\n",
      "Iter 8960, Minibatch Loss= 2951.521484, Training Accuracy= 0.82031\n",
      "Iter 10240, Minibatch Loss= 3817.645752, Training Accuracy= 0.83594\n",
      "Iter 11520, Minibatch Loss= 2377.578857, Training Accuracy= 0.85156\n",
      "Iter 12800, Minibatch Loss= 2481.777832, Training Accuracy= 0.85938\n",
      "Iter 14080, Minibatch Loss= 1549.543823, Training Accuracy= 0.91406\n",
      "Iter 15360, Minibatch Loss= 2102.523438, Training Accuracy= 0.91406\n",
      "Iter 16640, Minibatch Loss= 764.491089, Training Accuracy= 0.92188\n",
      "Iter 17920, Minibatch Loss= 3682.156006, Training Accuracy= 0.81250\n",
      "Iter 19200, Minibatch Loss= 2167.090332, Training Accuracy= 0.89844\n",
      "Iter 20480, Minibatch Loss= 1031.266724, Training Accuracy= 0.89844\n",
      "Iter 21760, Minibatch Loss= 843.575684, Training Accuracy= 0.89062\n",
      "Iter 23040, Minibatch Loss= 897.205688, Training Accuracy= 0.92969\n",
      "Iter 24320, Minibatch Loss= 2077.704102, Training Accuracy= 0.89062\n",
      "Iter 25600, Minibatch Loss= 684.733826, Training Accuracy= 0.92188\n",
      "Iter 26880, Minibatch Loss= 1369.494629, Training Accuracy= 0.92188\n",
      "Iter 28160, Minibatch Loss= 1082.752563, Training Accuracy= 0.94531\n",
      "Iter 29440, Minibatch Loss= 2273.515625, Training Accuracy= 0.89062\n",
      "Iter 30720, Minibatch Loss= 1014.189392, Training Accuracy= 0.86719\n",
      "Iter 32000, Minibatch Loss= 968.394104, Training Accuracy= 0.93750\n",
      "Iter 33280, Minibatch Loss= 737.437256, Training Accuracy= 0.95312\n",
      "Iter 34560, Minibatch Loss= 2292.174805, Training Accuracy= 0.86719\n",
      "Iter 35840, Minibatch Loss= 808.071228, Training Accuracy= 0.95312\n",
      "Iter 37120, Minibatch Loss= 629.329468, Training Accuracy= 0.94531\n",
      "Iter 38400, Minibatch Loss= 1208.117310, Training Accuracy= 0.92969\n",
      "Iter 39680, Minibatch Loss= 761.417114, Training Accuracy= 0.96094\n",
      "Iter 40960, Minibatch Loss= 529.372314, Training Accuracy= 0.93750\n",
      "Iter 42240, Minibatch Loss= 1036.240479, Training Accuracy= 0.92188\n",
      "Iter 43520, Minibatch Loss= 789.183472, Training Accuracy= 0.93750\n",
      "Iter 44800, Minibatch Loss= 459.506775, Training Accuracy= 0.96094\n",
      "Iter 46080, Minibatch Loss= 881.502197, Training Accuracy= 0.93750\n",
      "Iter 47360, Minibatch Loss= 797.305359, Training Accuracy= 0.94531\n",
      "Iter 48640, Minibatch Loss= 685.440674, Training Accuracy= 0.92969\n",
      "Iter 49920, Minibatch Loss= 526.797607, Training Accuracy= 0.93750\n",
      "Iter 51200, Minibatch Loss= 260.736267, Training Accuracy= 0.97656\n",
      "Iter 52480, Minibatch Loss= 1431.127197, Training Accuracy= 0.91406\n",
      "Iter 53760, Minibatch Loss= 1383.400635, Training Accuracy= 0.92969\n",
      "Iter 55040, Minibatch Loss= 458.508850, Training Accuracy= 0.96094\n",
      "Iter 56320, Minibatch Loss= 544.682129, Training Accuracy= 0.93750\n",
      "Iter 57600, Minibatch Loss= 842.321350, Training Accuracy= 0.94531\n",
      "Iter 58880, Minibatch Loss= 511.945984, Training Accuracy= 0.92969\n",
      "Iter 60160, Minibatch Loss= 307.943604, Training Accuracy= 0.96875\n",
      "Iter 61440, Minibatch Loss= 569.101562, Training Accuracy= 0.94531\n",
      "Iter 62720, Minibatch Loss= 152.191666, Training Accuracy= 0.96875\n",
      "Iter 64000, Minibatch Loss= 302.842102, Training Accuracy= 0.96094\n",
      "Iter 65280, Minibatch Loss= 639.655945, Training Accuracy= 0.94531\n",
      "Iter 66560, Minibatch Loss= 485.730286, Training Accuracy= 0.96875\n",
      "Iter 67840, Minibatch Loss= 253.856934, Training Accuracy= 0.97656\n",
      "Iter 69120, Minibatch Loss= 275.097229, Training Accuracy= 0.96875\n",
      "Iter 70400, Minibatch Loss= 100.948639, Training Accuracy= 0.97656\n",
      "Iter 71680, Minibatch Loss= 321.136047, Training Accuracy= 0.96094\n",
      "Iter 72960, Minibatch Loss= 321.468231, Training Accuracy= 0.95312\n",
      "Iter 74240, Minibatch Loss= 499.464325, Training Accuracy= 0.95312\n",
      "Iter 75520, Minibatch Loss= 326.838715, Training Accuracy= 0.95312\n",
      "Iter 76800, Minibatch Loss= 586.592773, Training Accuracy= 0.89062\n",
      "Iter 78080, Minibatch Loss= 187.660416, Training Accuracy= 0.96094\n",
      "Iter 79360, Minibatch Loss= 464.117676, Training Accuracy= 0.93750\n",
      "Iter 80640, Minibatch Loss= 135.401001, Training Accuracy= 0.96875\n",
      "Iter 81920, Minibatch Loss= 632.508545, Training Accuracy= 0.95312\n",
      "Iter 83200, Minibatch Loss= 801.934204, Training Accuracy= 0.93750\n",
      "Iter 84480, Minibatch Loss= 383.993225, Training Accuracy= 0.95312\n",
      "Iter 85760, Minibatch Loss= 285.646362, Training Accuracy= 0.97656\n",
      "Iter 87040, Minibatch Loss= 488.851562, Training Accuracy= 0.96094\n",
      "Iter 88320, Minibatch Loss= 157.391754, Training Accuracy= 0.97656\n",
      "Iter 89600, Minibatch Loss= 755.583008, Training Accuracy= 0.92969\n",
      "Iter 90880, Minibatch Loss= 202.850998, Training Accuracy= 0.98438\n",
      "Iter 92160, Minibatch Loss= 342.483887, Training Accuracy= 0.92969\n",
      "Iter 93440, Minibatch Loss= 419.035095, Training Accuracy= 0.96875\n",
      "Iter 94720, Minibatch Loss= 64.777863, Training Accuracy= 0.97656\n",
      "Iter 96000, Minibatch Loss= 689.723206, Training Accuracy= 0.95312\n",
      "Iter 97280, Minibatch Loss= 264.708374, Training Accuracy= 0.97656\n",
      "Iter 98560, Minibatch Loss= 314.605408, Training Accuracy= 0.95312\n",
      "Iter 99840, Minibatch Loss= 324.799103, Training Accuracy= 0.95312\n",
      "Iter 101120, Minibatch Loss= 368.762878, Training Accuracy= 0.96094\n",
      "Iter 102400, Minibatch Loss= 542.381470, Training Accuracy= 0.95312\n",
      "Iter 103680, Minibatch Loss= 282.401794, Training Accuracy= 0.96875\n",
      "Iter 104960, Minibatch Loss= 443.783722, Training Accuracy= 0.96094\n",
      "Iter 106240, Minibatch Loss= 334.842957, Training Accuracy= 0.96094\n",
      "Iter 107520, Minibatch Loss= 532.492554, Training Accuracy= 0.96094\n",
      "Iter 108800, Minibatch Loss= 127.122070, Training Accuracy= 0.94531\n",
      "Iter 110080, Minibatch Loss= 287.522339, Training Accuracy= 0.97656\n",
      "Iter 111360, Minibatch Loss= 58.484303, Training Accuracy= 0.97656\n",
      "Iter 112640, Minibatch Loss= 179.433838, Training Accuracy= 0.96875\n",
      "Iter 113920, Minibatch Loss= 11.370651, Training Accuracy= 0.99219\n",
      "Iter 115200, Minibatch Loss= 500.185059, Training Accuracy= 0.95312\n",
      "Iter 116480, Minibatch Loss= 188.354980, Training Accuracy= 0.94531\n",
      "Iter 117760, Minibatch Loss= 879.804077, Training Accuracy= 0.92969\n",
      "Iter 119040, Minibatch Loss= 341.721832, Training Accuracy= 0.95312\n",
      "Iter 120320, Minibatch Loss= 270.182373, Training Accuracy= 0.96094\n",
      "Iter 121600, Minibatch Loss= 143.300522, Training Accuracy= 0.95312\n",
      "Iter 122880, Minibatch Loss= 41.520859, Training Accuracy= 0.99219\n",
      "Iter 124160, Minibatch Loss= 231.397705, Training Accuracy= 0.96094\n",
      "Iter 125440, Minibatch Loss= 238.023163, Training Accuracy= 0.95312\n",
      "Iter 126720, Minibatch Loss= 335.101685, Training Accuracy= 0.95312\n",
      "Iter 128000, Minibatch Loss= 95.196747, Training Accuracy= 0.97656\n",
      "Iter 129280, Minibatch Loss= 103.832970, Training Accuracy= 0.98438\n",
      "Iter 130560, Minibatch Loss= 422.672607, Training Accuracy= 0.96875\n",
      "Iter 131840, Minibatch Loss= 282.977356, Training Accuracy= 0.98438\n",
      "Iter 133120, Minibatch Loss= 135.179459, Training Accuracy= 0.98438\n",
      "Iter 134400, Minibatch Loss= 670.183594, Training Accuracy= 0.92969\n",
      "Iter 135680, Minibatch Loss= 381.332703, Training Accuracy= 0.96094\n",
      "Iter 136960, Minibatch Loss= 248.389465, Training Accuracy= 0.96875\n",
      "Iter 138240, Minibatch Loss= 246.398102, Training Accuracy= 0.96094\n",
      "Iter 139520, Minibatch Loss= 89.281174, Training Accuracy= 0.96875\n",
      "Iter 140800, Minibatch Loss= 106.133652, Training Accuracy= 0.97656\n",
      "Iter 142080, Minibatch Loss= 247.815094, Training Accuracy= 0.97656\n",
      "Iter 143360, Minibatch Loss= 332.984863, Training Accuracy= 0.96875\n",
      "Iter 144640, Minibatch Loss= 442.966919, Training Accuracy= 0.96875\n",
      "Iter 145920, Minibatch Loss= 170.396210, Training Accuracy= 0.98438\n",
      "Iter 147200, Minibatch Loss= 24.393188, Training Accuracy= 0.99219\n",
      "Iter 148480, Minibatch Loss= 330.244507, Training Accuracy= 0.95312\n",
      "Iter 149760, Minibatch Loss= 375.053284, Training Accuracy= 0.95312\n",
      "Iter 151040, Minibatch Loss= 83.885506, Training Accuracy= 0.96094\n",
      "Iter 152320, Minibatch Loss= 98.596672, Training Accuracy= 0.97656\n",
      "Iter 153600, Minibatch Loss= 45.218826, Training Accuracy= 0.98438\n",
      "Iter 154880, Minibatch Loss= 78.601265, Training Accuracy= 0.96875\n",
      "Iter 156160, Minibatch Loss= 267.411041, Training Accuracy= 0.97656\n",
      "Iter 157440, Minibatch Loss= 244.163177, Training Accuracy= 0.95312\n",
      "Iter 158720, Minibatch Loss= 78.293915, Training Accuracy= 0.98438\n",
      "Iter 160000, Minibatch Loss= 301.326202, Training Accuracy= 0.96094\n",
      "Iter 161280, Minibatch Loss= 252.517487, Training Accuracy= 0.96094\n",
      "Iter 162560, Minibatch Loss= 213.369034, Training Accuracy= 0.95312\n",
      "Iter 163840, Minibatch Loss= 18.513672, Training Accuracy= 0.98438\n",
      "Iter 165120, Minibatch Loss= 88.995590, Training Accuracy= 0.98438\n",
      "Iter 166400, Minibatch Loss= 0.000000, Training Accuracy= 1.00000\n",
      "Iter 167680, Minibatch Loss= 163.813507, Training Accuracy= 0.97656\n",
      "Iter 168960, Minibatch Loss= 187.671906, Training Accuracy= 0.96875\n",
      "Iter 170240, Minibatch Loss= 127.384705, Training Accuracy= 0.97656\n",
      "Iter 171520, Minibatch Loss= 87.244644, Training Accuracy= 0.98438\n",
      "Iter 172800, Minibatch Loss= 95.603020, Training Accuracy= 0.99219\n",
      "Iter 174080, Minibatch Loss= 156.683868, Training Accuracy= 0.97656\n",
      "Iter 175360, Minibatch Loss= 165.523270, Training Accuracy= 0.96094\n",
      "Iter 176640, Minibatch Loss= 7.104034, Training Accuracy= 0.99219\n",
      "Iter 177920, Minibatch Loss= 104.410812, Training Accuracy= 0.98438\n",
      "Iter 179200, Minibatch Loss= 53.528198, Training Accuracy= 0.96875\n",
      "Iter 180480, Minibatch Loss= 14.942947, Training Accuracy= 0.99219\n",
      "Iter 181760, Minibatch Loss= 65.271217, Training Accuracy= 0.97656\n",
      "Iter 183040, Minibatch Loss= 185.333954, Training Accuracy= 0.99219\n",
      "Iter 184320, Minibatch Loss= 114.743057, Training Accuracy= 0.97656\n",
      "Iter 185600, Minibatch Loss= 225.154266, Training Accuracy= 0.96875\n",
      "Iter 186880, Minibatch Loss= 43.089172, Training Accuracy= 0.99219\n",
      "Iter 188160, Minibatch Loss= 56.587273, Training Accuracy= 0.98438\n",
      "Iter 189440, Minibatch Loss= 246.417999, Training Accuracy= 0.96875\n",
      "Iter 190720, Minibatch Loss= 282.792450, Training Accuracy= 0.96094\n",
      "Iter 192000, Minibatch Loss= 254.210999, Training Accuracy= 0.93750\n",
      "Iter 193280, Minibatch Loss= 160.332214, Training Accuracy= 0.96875\n",
      "Iter 194560, Minibatch Loss= 199.398865, Training Accuracy= 0.98438\n",
      "Iter 195840, Minibatch Loss= 240.265350, Training Accuracy= 0.96875\n",
      "Iter 197120, Minibatch Loss= 222.769745, Training Accuracy= 0.96875\n",
      "Iter 198400, Minibatch Loss= 273.168884, Training Accuracy= 0.96094\n",
      "Iter 199680, Minibatch Loss= 46.207954, Training Accuracy= 0.98438\n",
      "Optimization Finished!\n",
      "Testing Accuracy: 0.980469\n"
     ]
    }
   ],
   "source": [
    "with tf.Session() as sess:\n",
    "    sess.run(init)\n",
    "    step = 1\n",
    "    # Keep training until reach max iterations\n",
    "    while step * batch_size < training_iters:\n",
    "        batch_x, batch_y = mnist.train.next_batch(batch_size)\n",
    "        # Run optimization op (backprop)\n",
    "        sess.run(optimizer, feed_dict={x: batch_x, y: batch_y,\n",
    "                                       keep_prob: dropout})\n",
    "        if step % display_step == 0:\n",
    "            # Calculate batch loss and accuracy\n",
    "            loss, acc = sess.run([cost, accuracy], feed_dict={x: batch_x,\n",
    "                                                              y: batch_y,\n",
    "                                                              keep_prob: 1.})\n",
    "            print(\"Iter \" + str(step*batch_size) + \", Minibatch Loss= \" + \\\n",
    "                  \"{:.6f}\".format(loss) + \", Training Accuracy= \" + \\\n",
    "                  \"{:.5f}\".format(acc))\n",
    "        step += 1\n",
    "    print(\"Optimization Finished!\")\n",
    "\n",
    "    # Calculate accuracy for 256 mnist test images\n",
    "    print(\"Testing Accuracy:\", \\\n",
    "        sess.run(accuracy, feed_dict={x: mnist.test.images[:256],\n",
    "                                      y: mnist.test.labels[:256],\n",
    "keep_prob: 1.}))"
   ]
  },
  {
   "cell_type": "code",
   "execution_count": null,
   "metadata": {
    "collapsed": true
   },
   "outputs": [],
   "source": []
  }
 ],
 "metadata": {
  "kernelspec": {
   "display_name": "Python [default]",
   "language": "python",
   "name": "python3"
  },
  "language_info": {
   "codemirror_mode": {
    "name": "ipython",
    "version": 3
   },
   "file_extension": ".py",
   "mimetype": "text/x-python",
   "name": "python",
   "nbconvert_exporter": "python",
   "pygments_lexer": "ipython3",
   "version": "3.5.2"
  }
 },
 "nbformat": 4,
 "nbformat_minor": 1
}
